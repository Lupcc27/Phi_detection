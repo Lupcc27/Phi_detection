{
  "cells": [
    {
      "cell_type": "code",
      "execution_count": 10,
      "metadata": {},
      "outputs": [
        {
          "name": "stdout",
          "output_type": "stream",
          "text": [
            "Requirement already satisfied: protobuf in c:\\users\\lucia\\appdata\\local\\packages\\pythonsoftwarefoundation.python.3.11_qbz5n2kfra8p0\\localcache\\local-packages\\python311\\site-packages (4.25.3)\n"
          ]
        },
        {
          "name": "stderr",
          "output_type": "stream",
          "text": [
            "\n",
            "[notice] A new release of pip is available: 23.1.2 -> 24.1\n",
            "[notice] To update, run: C:\\Users\\Lucia\\AppData\\Local\\Microsoft\\WindowsApps\\PythonSoftwareFoundation.Python.3.11_qbz5n2kfra8p0\\python.exe -m pip install --upgrade pip\n"
          ]
        }
      ],
      "source": [
        "!pip install protobuf"
      ]
    },
    {
      "cell_type": "code",
      "execution_count": 13,
      "metadata": {
        "id": "gxbHBsF-8Y_l"
      },
      "outputs": [
        {
          "name": "stdout",
          "output_type": "stream",
          "text": [
            "Requirement already satisfied: mediapipe in c:\\users\\lucia\\appdata\\local\\packages\\pythonsoftwarefoundation.python.3.11_qbz5n2kfra8p0\\localcache\\local-packages\\python311\\site-packages (0.10.14)\n",
            "Requirement already satisfied: opencv-python in c:\\users\\lucia\\appdata\\local\\packages\\pythonsoftwarefoundation.python.3.11_qbz5n2kfra8p0\\localcache\\local-packages\\python311\\site-packages (4.7.0.72)\n",
            "Requirement already satisfied: absl-py in c:\\users\\lucia\\appdata\\local\\packages\\pythonsoftwarefoundation.python.3.11_qbz5n2kfra8p0\\localcache\\local-packages\\python311\\site-packages (from mediapipe) (2.1.0)\n",
            "Requirement already satisfied: attrs>=19.1.0 in c:\\users\\lucia\\appdata\\local\\packages\\pythonsoftwarefoundation.python.3.11_qbz5n2kfra8p0\\localcache\\local-packages\\python311\\site-packages (from mediapipe) (23.2.0)\n",
            "Requirement already satisfied: flatbuffers>=2.0 in c:\\users\\lucia\\appdata\\local\\packages\\pythonsoftwarefoundation.python.3.11_qbz5n2kfra8p0\\localcache\\local-packages\\python311\\site-packages (from mediapipe) (24.3.25)\n",
            "Requirement already satisfied: jax in c:\\users\\lucia\\appdata\\local\\packages\\pythonsoftwarefoundation.python.3.11_qbz5n2kfra8p0\\localcache\\local-packages\\python311\\site-packages (from mediapipe) (0.4.30)\n",
            "Requirement already satisfied: jaxlib in c:\\users\\lucia\\appdata\\local\\packages\\pythonsoftwarefoundation.python.3.11_qbz5n2kfra8p0\\localcache\\local-packages\\python311\\site-packages (from mediapipe) (0.4.30)\n",
            "Requirement already satisfied: matplotlib in c:\\users\\lucia\\appdata\\local\\packages\\pythonsoftwarefoundation.python.3.11_qbz5n2kfra8p0\\localcache\\local-packages\\python311\\site-packages (from mediapipe) (3.9.0)\n",
            "Requirement already satisfied: numpy in c:\\users\\lucia\\appdata\\local\\packages\\pythonsoftwarefoundation.python.3.11_qbz5n2kfra8p0\\localcache\\local-packages\\python311\\site-packages (from mediapipe) (1.24.2)\n",
            "Requirement already satisfied: opencv-contrib-python in c:\\users\\lucia\\appdata\\local\\packages\\pythonsoftwarefoundation.python.3.11_qbz5n2kfra8p0\\localcache\\local-packages\\python311\\site-packages (from mediapipe) (4.10.0.84)\n",
            "Requirement already satisfied: protobuf<5,>=4.25.3 in c:\\users\\lucia\\appdata\\local\\packages\\pythonsoftwarefoundation.python.3.11_qbz5n2kfra8p0\\localcache\\local-packages\\python311\\site-packages (from mediapipe) (4.25.3)\n",
            "Requirement already satisfied: sounddevice>=0.4.4 in c:\\users\\lucia\\appdata\\local\\packages\\pythonsoftwarefoundation.python.3.11_qbz5n2kfra8p0\\localcache\\local-packages\\python311\\site-packages (from mediapipe) (0.4.7)\n",
            "Requirement already satisfied: CFFI>=1.0 in c:\\users\\lucia\\appdata\\local\\packages\\pythonsoftwarefoundation.python.3.11_qbz5n2kfra8p0\\localcache\\local-packages\\python311\\site-packages (from sounddevice>=0.4.4->mediapipe) (1.16.0)\n",
            "Requirement already satisfied: ml-dtypes>=0.2.0 in c:\\users\\lucia\\appdata\\local\\packages\\pythonsoftwarefoundation.python.3.11_qbz5n2kfra8p0\\localcache\\local-packages\\python311\\site-packages (from jax->mediapipe) (0.4.0)\n",
            "Requirement already satisfied: opt-einsum in c:\\users\\lucia\\appdata\\local\\packages\\pythonsoftwarefoundation.python.3.11_qbz5n2kfra8p0\\localcache\\local-packages\\python311\\site-packages (from jax->mediapipe) (3.3.0)\n",
            "Requirement already satisfied: scipy>=1.9 in c:\\users\\lucia\\appdata\\local\\packages\\pythonsoftwarefoundation.python.3.11_qbz5n2kfra8p0\\localcache\\local-packages\\python311\\site-packages (from jax->mediapipe) (1.14.0)\n",
            "Requirement already satisfied: contourpy>=1.0.1 in c:\\users\\lucia\\appdata\\local\\packages\\pythonsoftwarefoundation.python.3.11_qbz5n2kfra8p0\\localcache\\local-packages\\python311\\site-packages (from matplotlib->mediapipe) (1.2.1)\n",
            "Requirement already satisfied: cycler>=0.10 in c:\\users\\lucia\\appdata\\local\\packages\\pythonsoftwarefoundation.python.3.11_qbz5n2kfra8p0\\localcache\\local-packages\\python311\\site-packages (from matplotlib->mediapipe) (0.12.1)\n",
            "Requirement already satisfied: fonttools>=4.22.0 in c:\\users\\lucia\\appdata\\local\\packages\\pythonsoftwarefoundation.python.3.11_qbz5n2kfra8p0\\localcache\\local-packages\\python311\\site-packages (from matplotlib->mediapipe) (4.53.0)\n",
            "Requirement already satisfied: kiwisolver>=1.3.1 in c:\\users\\lucia\\appdata\\local\\packages\\pythonsoftwarefoundation.python.3.11_qbz5n2kfra8p0\\localcache\\local-packages\\python311\\site-packages (from matplotlib->mediapipe) (1.4.5)\n",
            "Requirement already satisfied: packaging>=20.0 in c:\\users\\lucia\\appdata\\local\\packages\\pythonsoftwarefoundation.python.3.11_qbz5n2kfra8p0\\localcache\\local-packages\\python311\\site-packages (from matplotlib->mediapipe) (24.1)\n",
            "Requirement already satisfied: pillow>=8 in c:\\users\\lucia\\appdata\\local\\packages\\pythonsoftwarefoundation.python.3.11_qbz5n2kfra8p0\\localcache\\local-packages\\python311\\site-packages (from matplotlib->mediapipe) (10.3.0)\n",
            "Requirement already satisfied: pyparsing>=2.3.1 in c:\\users\\lucia\\appdata\\local\\packages\\pythonsoftwarefoundation.python.3.11_qbz5n2kfra8p0\\localcache\\local-packages\\python311\\site-packages (from matplotlib->mediapipe) (3.1.2)\n",
            "Requirement already satisfied: python-dateutil>=2.7 in c:\\users\\lucia\\appdata\\local\\packages\\pythonsoftwarefoundation.python.3.11_qbz5n2kfra8p0\\localcache\\local-packages\\python311\\site-packages (from matplotlib->mediapipe) (2.9.0.post0)\n",
            "Requirement already satisfied: pycparser in c:\\users\\lucia\\appdata\\local\\packages\\pythonsoftwarefoundation.python.3.11_qbz5n2kfra8p0\\localcache\\local-packages\\python311\\site-packages (from CFFI>=1.0->sounddevice>=0.4.4->mediapipe) (2.22)\n",
            "Requirement already satisfied: six>=1.5 in c:\\users\\lucia\\appdata\\local\\packages\\pythonsoftwarefoundation.python.3.11_qbz5n2kfra8p0\\localcache\\local-packages\\python311\\site-packages (from python-dateutil>=2.7->matplotlib->mediapipe) (1.16.0)\n"
          ]
        },
        {
          "name": "stderr",
          "output_type": "stream",
          "text": [
            "\n",
            "[notice] A new release of pip is available: 23.1.2 -> 24.1\n",
            "[notice] To update, run: C:\\Users\\Lucia\\AppData\\Local\\Microsoft\\WindowsApps\\PythonSoftwareFoundation.Python.3.11_qbz5n2kfra8p0\\python.exe -m pip install --upgrade pip\n",
            "\n",
            "[notice] A new release of pip is available: 23.1.2 -> 24.1\n",
            "[notice] To update, run: C:\\Users\\Lucia\\AppData\\Local\\Microsoft\\WindowsApps\\PythonSoftwareFoundation.Python.3.11_qbz5n2kfra8p0\\python.exe -m pip install --upgrade pip\n"
          ]
        }
      ],
      "source": [
        "!pip install mediapipe opencv-python\n",
        "\n",
        "!pip install -q mediapipe"
      ]
    },
    {
      "cell_type": "code",
      "execution_count": 1,
      "metadata": {},
      "outputs": [
        {
          "name": "stderr",
          "output_type": "stream",
          "text": [
            "C:\\Users\\Lucia\\AppData\\Local\\Packages\\PythonSoftwareFoundation.Python.3.11_qbz5n2kfra8p0\\LocalCache\\local-packages\\Python311\\site-packages\\google\\protobuf\\symbol_database.py:55: UserWarning: SymbolDatabase.GetPrototype() is deprecated. Please use message_factory.GetMessageClass() instead. SymbolDatabase.GetPrototype() will be removed soon.\n",
            "  warnings.warn('SymbolDatabase.GetPrototype() is deprecated. Please '\n"
          ]
        },
        {
          "name": "stdout",
          "output_type": "stream",
          "text": [
            "Distancia entre punto 1 y punto 2: 244.0\n"
          ]
        }
      ],
      "source": [
        "import os\n",
        "import cv2\n",
        "import imghdr\n",
        "import numpy as np\n",
        "from matplotlib import pyplot as plt\n",
        "import mediapipe as mp\n",
        " \n",
        "data_dir = 'Emotions'\n",
        "image_exts = ['jpeg', 'jpg', 'png']\n",
        " \n",
        "# Inicializar Mediapipe\n",
        "mp_face_mesh = mp.solutions.face_mesh\n",
        "mp_drawing = mp.solutions.drawing_utils\n",
        " \n",
        "# Función para calcular las proporciones áureas\n",
        "def calculate_proportions(image_path):\n",
        "    image = cv2.imread(image_path)\n",
        "    if image is None:\n",
        "        print(f\"Error al cargar la imagen desde {image_path}. Verifica la ruta y asegúrate de que el archivo exista.\")\n",
        "        return None, None\n",
        " \n",
        "    image_rgb = cv2.cvtColor(image, cv2.COLOR_BGR2RGB)\n",
        "    with mp_face_mesh.FaceMesh(\n",
        "        static_image_mode=True,\n",
        "        max_num_faces=1,\n",
        "        min_detection_confidence=0.5) as face_mesh:\n",
        "        results = face_mesh.process(image_rgb)\n",
        "        if results.multi_face_landmarks is None:\n",
        "            print(f\"No se encontraron rostros en la imagen {image_path}\")\n",
        "            return None, None\n",
        "        for face_landmarks in results.multi_face_landmarks:\n",
        "            landmarks = face_landmarks.landmark\n",
        "            h, w, _ = image.shape\n",
        "            points = [\n",
        "                (landmarks[33].x * w, landmarks[33].y * h),  # Ojo izquierdo\n",
        "                (landmarks[263].x * w, landmarks[263].y * h), # Ojo derecho\n",
        "                (landmarks[1].x * w, landmarks[1].y * h),     # Nariz\n",
        "                (landmarks[152].x * w, landmarks[152].y * h)  # Mentón\n",
        "            ]\n",
        "            points = [(int(x), int(y)) for x, y in points]\n",
        "            x1, y1 = points[0]\n",
        "            x2, y2 = points[1]\n",
        "            x3, y3 = points[2]\n",
        "            x4, y4 = points[3]\n",
        " \n",
        "            eye_distance = np.sqrt((x2 - x1)**2 + (y2 - y1)**2)\n",
        "            eye_to_nose = np.sqrt((x3 - x1)**2 + (y3 - y1)**2)\n",
        "            nose_to_chin = np.sqrt((x4 - x3)**2 + (y4 - y3)**2)\n",
        " \n",
        "            proportion_eye_nose = eye_to_nose / eye_distance\n",
        "            proportion_nose_chin = nose_to_chin / eye_distance\n",
        " \n",
        "            return proportion_eye_nose, proportion_nose_chin\n",
        "    return None, None\n",
        " \n",
        "# Diccionario para almacenar las proporciones por clase de imagen\n",
        "proportions_by_class = {}\n",
        " \n",
        "# Iterar sobre las imágenes y calcular proporciones\n",
        "for image_class in os.listdir(data_dir):\n",
        "    class_dir = os.path.join(data_dir, image_class)\n",
        "    if not os.path.isdir(class_dir):\n",
        "        continue\n",
        "    proportions_by_class[image_class] = {'eye_nose': [], 'nose_chin': []}\n",
        "    for image in os.listdir(class_dir):\n",
        "        image_path = os.path.join(class_dir, image)\n",
        "        tip = imghdr.what(image_path)\n",
        "        if tip not in image_exts:\n",
        "            print(f'Image not in ext list {image_path}')\n",
        "            os.remove(image_path)\n",
        "            continue\n",
        "        try:\n",
        "            prop_eye_nose, prop_nose_chin = calculate_proportions(image_path)\n",
        "            if prop_eye_nose and prop_nose_chin:\n",
        "                proportions_by_class[image_class]['eye_nose'].append(prop_eye_nose)\n",
        "                proportions_by_class[image_class]['nose_chin'].append(prop_nose_chin)\n",
        "        except Exception as e:\n",
        "            print(f'Issue with image {image_path}: {e}')\n",
        "            continue\n",
        " \n",
        "# Graficar las proporciones por clase de imagen\n",
        "fig, ax = plt.subplots(nrows=len(proportions_by_class), ncols=2, figsize=(20, 5*len(proportions_by_class)))\n",
        " \n",
        "for idx, (image_class, proportions) in enumerate(proportions_by_class.items()):\n",
        "    ax[idx, 0].hist(proportions['eye_nose'], bins=20, color='blue', alpha=0.7)\n",
        "    ax[idx, 0].axvline(x=1.618, color='r', linestyle='--')\n",
        "    ax[idx, 0].set_title(f'{image_class} - Eye to Nose Proportion')\n",
        "    ax[idx, 0].set_xlabel('Proportion')\n",
        "    ax[idx, 0].set_ylabel('Frequency')\n",
        "    ax[idx, 1].hist(proportions['nose_chin'], bins=20, color='green', alpha=0.7)\n",
        "    ax[idx, 1].axvline(x=1.618, color='r', linestyle='--')\n",
        "    ax[idx, 1].set_title(f'{image_class} - Nose to Chin Proportion')\n",
        "    ax[idx, 1].set_xlabel('Proportion')\n",
        "    ax[idx, 1].set_ylabel('Frequency')\n",
        " \n",
        "plt.tight_layout()\n",
        "plt.show()"
      ]
    }
  ],
  "metadata": {
    "colab": {
      "provenance": []
    },
    "kernelspec": {
      "display_name": "Python 3 (ipykernel)",
      "language": "python",
      "name": "python3"
    },
    "language_info": {
      "codemirror_mode": {
        "name": "ipython",
        "version": 3
      },
      "file_extension": ".py",
      "mimetype": "text/x-python",
      "name": "python",
      "nbconvert_exporter": "python",
      "pygments_lexer": "ipython3",
      "version": "3.11.9"
    }
  },
  "nbformat": 4,
  "nbformat_minor": 0
}
